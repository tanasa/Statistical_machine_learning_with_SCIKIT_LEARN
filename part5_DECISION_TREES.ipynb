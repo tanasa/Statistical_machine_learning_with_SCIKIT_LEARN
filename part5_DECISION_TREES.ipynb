{
 "cells": [
  {
   "cell_type": "code",
   "execution_count": 90,
   "id": "6ab79631",
   "metadata": {},
   "outputs": [],
   "source": [
    "import pandas as pd\n",
    "import os\n",
    "import matplotlib.pyplot as plt\n",
    "import numpy as np\n",
    "import itertools\n",
    "import joblib\n",
    "import sklearn.externals\n",
    "from sklearn.tree import DecisionTreeClassifier\n",
    "from sklearn.preprocessing import LabelEncoder\n",
    "from sklearn.tree import export_graphviz\n",
    "from sklearn.metrics import accuracy_score, confusion_matrix, classification_report, roc_curve\n",
    "from sklearn.model_selection import GridSearchCV\n",
    "import graphviz\n",
    "%matplotlib inline"
   ]
  },
  {
   "cell_type": "code",
   "execution_count": null,
   "id": "08145808",
   "metadata": {},
   "outputs": [],
   "source": []
  },
  {
   "cell_type": "code",
   "execution_count": 91,
   "id": "59498693",
   "metadata": {},
   "outputs": [],
   "source": [
    "# DECISION TREES\n",
    "# Which split leads to more order in the data ?"
   ]
  },
  {
   "cell_type": "code",
   "execution_count": 92,
   "id": "e68b48ee",
   "metadata": {},
   "outputs": [],
   "source": [
    "# GINI IMPURITY\n",
    "# The Gini Impurity reaches a value of 0 when all of the data \n",
    "# in a leaf are of the same class - this is the best case scenario."
   ]
  },
  {
   "cell_type": "code",
   "execution_count": 93,
   "id": "16d2dc75",
   "metadata": {},
   "outputs": [],
   "source": [
    "#  If probability of picking a fail is 3/8 and the probability of picking a pass is 5/8\n",
    "# 1−(3/8)^2−(5/8)^2=0.46875"
   ]
  },
  {
   "cell_type": "code",
   "execution_count": null,
   "id": "eadfa2e9",
   "metadata": {},
   "outputs": [],
   "source": []
  },
  {
   "cell_type": "code",
   "execution_count": 94,
   "id": "fda35deb",
   "metadata": {},
   "outputs": [],
   "source": [
    "# The Decision Trees Training Algorithm Overfit the Data\n",
    "# In order to prevent OVERFITTING :"
   ]
  },
  {
   "cell_type": "code",
   "execution_count": 95,
   "id": "01060207",
   "metadata": {},
   "outputs": [],
   "source": [
    "# Set a maximum depth: For example, you can stop the tree once it has grown to three levels."
   ]
  },
  {
   "cell_type": "code",
   "execution_count": 96,
   "id": "368f2af4",
   "metadata": {},
   "outputs": [],
   "source": [
    "# Set a minimum number data points for splits: \n",
    "# This means that if a node has less than the minimum, it will not be split further, and will become a leaf."
   ]
  },
  {
   "cell_type": "code",
   "execution_count": 97,
   "id": "2a0a33a4",
   "metadata": {},
   "outputs": [],
   "source": [
    "# Set a minimum number of data points for a leaf: \n",
    "# If a split results in a leaf with less than the minimum, do not perform the split. \n",
    "# Try the next best split and become a leaf if no split that satisfies the minimum can be found."
   ]
  },
  {
   "cell_type": "code",
   "execution_count": 98,
   "id": "9a8babc3",
   "metadata": {},
   "outputs": [],
   "source": [
    "# Pruning: Pruning is method of remove splits after the tree is full trained (i.e. you go back and 'prune the tree')."
   ]
  },
  {
   "cell_type": "code",
   "execution_count": 99,
   "id": "218cf15b",
   "metadata": {},
   "outputs": [],
   "source": [
    "# The TREES can handle NON-NUMERICAL DATA\n",
    "# The decision tree algorithm can determine nodes that split on non-numeric data."
   ]
  },
  {
   "cell_type": "code",
   "execution_count": 100,
   "id": "9b28ae26",
   "metadata": {},
   "outputs": [],
   "source": [
    "# The scikit-learn package does not handle categorical data when training decision trees, \n",
    "# and we must convert the categorical features to numerical features. "
   ]
  },
  {
   "cell_type": "code",
   "execution_count": 101,
   "id": "2beee4db",
   "metadata": {},
   "outputs": [],
   "source": [
    "# Decision trees also do NOT benefit from mean standardization like linear regression and logistic regression can (especially when using regularization), \n",
    "# so in general there is no need to to mean standardize our data.\n",
    "# However, there are many example in which you would still want to mean standardize your data."
   ]
  },
  {
   "cell_type": "code",
   "execution_count": 102,
   "id": "d887c73d",
   "metadata": {},
   "outputs": [
    {
     "data": {
      "text/plain": [
       "'/home/bogdan/Desktop/COURSES_STATISTICAL_MACHINE_LEARNING_UCI/course_z4_DATA_ML_PYTHON_at_UCI_for_GITHUB_rewritten'"
      ]
     },
     "execution_count": 102,
     "metadata": {},
     "output_type": "execute_result"
    }
   ],
   "source": [
    "os.getcwd()"
   ]
  },
  {
   "cell_type": "code",
   "execution_count": null,
   "id": "f249969e",
   "metadata": {},
   "outputs": [],
   "source": []
  },
  {
   "cell_type": "code",
   "execution_count": 103,
   "id": "077e40a2",
   "metadata": {},
   "outputs": [],
   "source": [
    "# TRAINING DATASET and 1-HOT ENCODING"
   ]
  },
  {
   "cell_type": "code",
   "execution_count": 104,
   "id": "8c87462e",
   "metadata": {},
   "outputs": [
    {
     "data": {
      "text/html": [
       "<div>\n",
       "<style scoped>\n",
       "    .dataframe tbody tr th:only-of-type {\n",
       "        vertical-align: middle;\n",
       "    }\n",
       "\n",
       "    .dataframe tbody tr th {\n",
       "        vertical-align: top;\n",
       "    }\n",
       "\n",
       "    .dataframe thead th {\n",
       "        text-align: right;\n",
       "    }\n",
       "</style>\n",
       "<table border=\"1\" class=\"dataframe\">\n",
       "  <thead>\n",
       "    <tr style=\"text-align: right;\">\n",
       "      <th></th>\n",
       "      <th>age</th>\n",
       "      <th>Medu</th>\n",
       "      <th>Fedu</th>\n",
       "      <th>traveltime</th>\n",
       "      <th>studytime</th>\n",
       "      <th>failures</th>\n",
       "      <th>famrel</th>\n",
       "      <th>freetime</th>\n",
       "      <th>goout</th>\n",
       "      <th>Dalc</th>\n",
       "      <th>...</th>\n",
       "      <th>activities_no</th>\n",
       "      <th>activities_yes</th>\n",
       "      <th>nursery_no</th>\n",
       "      <th>nursery_yes</th>\n",
       "      <th>higher_no</th>\n",
       "      <th>higher_yes</th>\n",
       "      <th>internet_no</th>\n",
       "      <th>internet_yes</th>\n",
       "      <th>romantic_no</th>\n",
       "      <th>romantic_yes</th>\n",
       "    </tr>\n",
       "  </thead>\n",
       "  <tbody>\n",
       "    <tr>\n",
       "      <th>0</th>\n",
       "      <td>18</td>\n",
       "      <td>1</td>\n",
       "      <td>1</td>\n",
       "      <td>2</td>\n",
       "      <td>2</td>\n",
       "      <td>0</td>\n",
       "      <td>5</td>\n",
       "      <td>4</td>\n",
       "      <td>4</td>\n",
       "      <td>1</td>\n",
       "      <td>...</td>\n",
       "      <td>0</td>\n",
       "      <td>1</td>\n",
       "      <td>0</td>\n",
       "      <td>1</td>\n",
       "      <td>0</td>\n",
       "      <td>1</td>\n",
       "      <td>0</td>\n",
       "      <td>1</td>\n",
       "      <td>1</td>\n",
       "      <td>0</td>\n",
       "    </tr>\n",
       "    <tr>\n",
       "      <th>1</th>\n",
       "      <td>17</td>\n",
       "      <td>3</td>\n",
       "      <td>3</td>\n",
       "      <td>1</td>\n",
       "      <td>2</td>\n",
       "      <td>0</td>\n",
       "      <td>5</td>\n",
       "      <td>3</td>\n",
       "      <td>3</td>\n",
       "      <td>2</td>\n",
       "      <td>...</td>\n",
       "      <td>0</td>\n",
       "      <td>1</td>\n",
       "      <td>0</td>\n",
       "      <td>1</td>\n",
       "      <td>0</td>\n",
       "      <td>1</td>\n",
       "      <td>0</td>\n",
       "      <td>1</td>\n",
       "      <td>0</td>\n",
       "      <td>1</td>\n",
       "    </tr>\n",
       "    <tr>\n",
       "      <th>2</th>\n",
       "      <td>18</td>\n",
       "      <td>4</td>\n",
       "      <td>4</td>\n",
       "      <td>1</td>\n",
       "      <td>3</td>\n",
       "      <td>0</td>\n",
       "      <td>4</td>\n",
       "      <td>3</td>\n",
       "      <td>3</td>\n",
       "      <td>2</td>\n",
       "      <td>...</td>\n",
       "      <td>0</td>\n",
       "      <td>1</td>\n",
       "      <td>0</td>\n",
       "      <td>1</td>\n",
       "      <td>0</td>\n",
       "      <td>1</td>\n",
       "      <td>0</td>\n",
       "      <td>1</td>\n",
       "      <td>1</td>\n",
       "      <td>0</td>\n",
       "    </tr>\n",
       "    <tr>\n",
       "      <th>3</th>\n",
       "      <td>16</td>\n",
       "      <td>4</td>\n",
       "      <td>4</td>\n",
       "      <td>1</td>\n",
       "      <td>1</td>\n",
       "      <td>0</td>\n",
       "      <td>5</td>\n",
       "      <td>3</td>\n",
       "      <td>2</td>\n",
       "      <td>1</td>\n",
       "      <td>...</td>\n",
       "      <td>0</td>\n",
       "      <td>1</td>\n",
       "      <td>0</td>\n",
       "      <td>1</td>\n",
       "      <td>0</td>\n",
       "      <td>1</td>\n",
       "      <td>0</td>\n",
       "      <td>1</td>\n",
       "      <td>1</td>\n",
       "      <td>0</td>\n",
       "    </tr>\n",
       "    <tr>\n",
       "      <th>4</th>\n",
       "      <td>18</td>\n",
       "      <td>3</td>\n",
       "      <td>3</td>\n",
       "      <td>1</td>\n",
       "      <td>4</td>\n",
       "      <td>0</td>\n",
       "      <td>5</td>\n",
       "      <td>3</td>\n",
       "      <td>3</td>\n",
       "      <td>1</td>\n",
       "      <td>...</td>\n",
       "      <td>1</td>\n",
       "      <td>0</td>\n",
       "      <td>0</td>\n",
       "      <td>1</td>\n",
       "      <td>0</td>\n",
       "      <td>1</td>\n",
       "      <td>0</td>\n",
       "      <td>1</td>\n",
       "      <td>1</td>\n",
       "      <td>0</td>\n",
       "    </tr>\n",
       "  </tbody>\n",
       "</table>\n",
       "<p>5 rows × 58 columns</p>\n",
       "</div>"
      ],
      "text/plain": [
       "   age  Medu  Fedu  traveltime  studytime  failures  famrel  freetime  goout  \\\n",
       "0   18     1     1           2          2         0       5         4      4   \n",
       "1   17     3     3           1          2         0       5         3      3   \n",
       "2   18     4     4           1          3         0       4         3      3   \n",
       "3   16     4     4           1          1         0       5         3      2   \n",
       "4   18     3     3           1          4         0       5         3      3   \n",
       "\n",
       "   Dalc  ...  activities_no  activities_yes  nursery_no  nursery_yes  \\\n",
       "0     1  ...              0               1           0            1   \n",
       "1     2  ...              0               1           0            1   \n",
       "2     2  ...              0               1           0            1   \n",
       "3     1  ...              0               1           0            1   \n",
       "4     1  ...              1               0           0            1   \n",
       "\n",
       "   higher_no  higher_yes  internet_no  internet_yes  romantic_no  romantic_yes  \n",
       "0          0           1            0             1            1             0  \n",
       "1          0           1            0             1            0             1  \n",
       "2          0           1            0             1            1             0  \n",
       "3          0           1            0             1            1             0  \n",
       "4          0           1            0             1            1             0  \n",
       "\n",
       "[5 rows x 58 columns]"
      ]
     },
     "execution_count": 104,
     "metadata": {},
     "output_type": "execute_result"
    }
   ],
   "source": [
    "###################################################################\n",
    "\n",
    "train_df = pd.read_csv(\"student-mat-train.csv\")\n",
    "train_df.head(2)\n",
    "# train_df.to_csv(r'train_df_train.csv', index=False)\n",
    "\n",
    "# zero_grade = train_df.loc[train_df['G3'] > 0,:]\n",
    "# zero_grade.head(2)\n",
    "# zero_grade.to_csv(r'zero_grade_train.csv', index=False)\n",
    "\n",
    "train_df = zero_grade\n",
    "\n",
    "# performing 1-HOT ENCODING\n",
    "\n",
    "train_dummies_df = pd.get_dummies(train_df)\n",
    "train_dummies_df.head()\n",
    "# train_dummies_df.to_csv(r'train_dummies_df_train.csv', index=False)\n",
    "\n",
    "###################################################################"
   ]
  },
  {
   "cell_type": "code",
   "execution_count": 105,
   "id": "70ba8439",
   "metadata": {},
   "outputs": [],
   "source": [
    "# TESTING DATASET and 1_HOT ENCODING"
   ]
  },
  {
   "cell_type": "code",
   "execution_count": 106,
   "id": "8f5e2339",
   "metadata": {},
   "outputs": [
    {
     "data": {
      "text/html": [
       "<div>\n",
       "<style scoped>\n",
       "    .dataframe tbody tr th:only-of-type {\n",
       "        vertical-align: middle;\n",
       "    }\n",
       "\n",
       "    .dataframe tbody tr th {\n",
       "        vertical-align: top;\n",
       "    }\n",
       "\n",
       "    .dataframe thead th {\n",
       "        text-align: right;\n",
       "    }\n",
       "</style>\n",
       "<table border=\"1\" class=\"dataframe\">\n",
       "  <thead>\n",
       "    <tr style=\"text-align: right;\">\n",
       "      <th></th>\n",
       "      <th>age</th>\n",
       "      <th>Medu</th>\n",
       "      <th>Fedu</th>\n",
       "      <th>traveltime</th>\n",
       "      <th>studytime</th>\n",
       "      <th>failures</th>\n",
       "      <th>famrel</th>\n",
       "      <th>freetime</th>\n",
       "      <th>goout</th>\n",
       "      <th>Dalc</th>\n",
       "      <th>...</th>\n",
       "      <th>activities_no</th>\n",
       "      <th>activities_yes</th>\n",
       "      <th>nursery_no</th>\n",
       "      <th>nursery_yes</th>\n",
       "      <th>higher_no</th>\n",
       "      <th>higher_yes</th>\n",
       "      <th>internet_no</th>\n",
       "      <th>internet_yes</th>\n",
       "      <th>romantic_no</th>\n",
       "      <th>romantic_yes</th>\n",
       "    </tr>\n",
       "  </thead>\n",
       "  <tbody>\n",
       "    <tr>\n",
       "      <th>0</th>\n",
       "      <td>18</td>\n",
       "      <td>1</td>\n",
       "      <td>1</td>\n",
       "      <td>2</td>\n",
       "      <td>2</td>\n",
       "      <td>0</td>\n",
       "      <td>5</td>\n",
       "      <td>4</td>\n",
       "      <td>4</td>\n",
       "      <td>1</td>\n",
       "      <td>...</td>\n",
       "      <td>0</td>\n",
       "      <td>1</td>\n",
       "      <td>0</td>\n",
       "      <td>1</td>\n",
       "      <td>0</td>\n",
       "      <td>1</td>\n",
       "      <td>0</td>\n",
       "      <td>1</td>\n",
       "      <td>1</td>\n",
       "      <td>0</td>\n",
       "    </tr>\n",
       "    <tr>\n",
       "      <th>1</th>\n",
       "      <td>17</td>\n",
       "      <td>3</td>\n",
       "      <td>3</td>\n",
       "      <td>1</td>\n",
       "      <td>2</td>\n",
       "      <td>0</td>\n",
       "      <td>5</td>\n",
       "      <td>3</td>\n",
       "      <td>3</td>\n",
       "      <td>2</td>\n",
       "      <td>...</td>\n",
       "      <td>0</td>\n",
       "      <td>1</td>\n",
       "      <td>0</td>\n",
       "      <td>1</td>\n",
       "      <td>0</td>\n",
       "      <td>1</td>\n",
       "      <td>0</td>\n",
       "      <td>1</td>\n",
       "      <td>0</td>\n",
       "      <td>1</td>\n",
       "    </tr>\n",
       "  </tbody>\n",
       "</table>\n",
       "<p>2 rows × 58 columns</p>\n",
       "</div>"
      ],
      "text/plain": [
       "   age  Medu  Fedu  traveltime  studytime  failures  famrel  freetime  goout  \\\n",
       "0   18     1     1           2          2         0       5         4      4   \n",
       "1   17     3     3           1          2         0       5         3      3   \n",
       "\n",
       "   Dalc  ...  activities_no  activities_yes  nursery_no  nursery_yes  \\\n",
       "0     1  ...              0               1           0            1   \n",
       "1     2  ...              0               1           0            1   \n",
       "\n",
       "   higher_no  higher_yes  internet_no  internet_yes  romantic_no  romantic_yes  \n",
       "0          0           1            0             1            1             0  \n",
       "1          0           1            0             1            0             1  \n",
       "\n",
       "[2 rows x 58 columns]"
      ]
     },
     "execution_count": 106,
     "metadata": {},
     "output_type": "execute_result"
    }
   ],
   "source": [
    "###################################################################\n",
    "test_df = pd.read_csv('student-mat-test.csv')\n",
    "test_df.head(2)\n",
    "# test_df.to_csv(r'test_df_test.csv', index=False)\n",
    "\n",
    "#zero_gradet = test_df.loc[test_df['G3'] > 0,:]\n",
    "#zero_gradet.head(2)\n",
    "#zero_gradet.to_csv(r'zero_grade_test.csv', index=False)\n",
    "\n",
    "#test_df = zero_gradet\n",
    "\n",
    "# performing 1-HOT ENCODING\n",
    "\n",
    "test_dummies_df = pd.get_dummies(test_df)\n",
    "train_dummies_df.head(2)\n",
    "#test_dummies_df.to_csv(r'test_dummies_df_test.csv', index=False)"
   ]
  },
  {
   "cell_type": "code",
   "execution_count": null,
   "id": "633ed574",
   "metadata": {},
   "outputs": [],
   "source": []
  },
  {
   "cell_type": "code",
   "execution_count": 107,
   "id": "5f16341d",
   "metadata": {},
   "outputs": [],
   "source": [
    "# SPLITTING the DATA into the FEATURES(x) and the TARGET(y)"
   ]
  },
  {
   "cell_type": "code",
   "execution_count": 108,
   "id": "06848cbf",
   "metadata": {},
   "outputs": [],
   "source": [
    "# separate our training data into predictors and predictand\n",
    "xCols = [col for col in train_dummies_df.columns if col not in ['pass', 'G3']]\n",
    "X_train = train_dummies_df[xCols]\n",
    "y_train = train_dummies_df['pass']\n",
    "\n",
    "# print(X_train)\n",
    "# print(y_train)"
   ]
  },
  {
   "cell_type": "code",
   "execution_count": 109,
   "id": "d010079e",
   "metadata": {},
   "outputs": [],
   "source": [
    "# separate our testing data into predictors and predictand\n",
    "X_test = test_dummies_df[xCols]\n",
    "y_test = test_dummies_df['pass']\n",
    "\n",
    "#print(X_test)\n",
    "#print(y_test)"
   ]
  },
  {
   "cell_type": "code",
   "execution_count": null,
   "id": "9d16878a",
   "metadata": {},
   "outputs": [],
   "source": []
  },
  {
   "cell_type": "code",
   "execution_count": 110,
   "id": "c9b26177",
   "metadata": {},
   "outputs": [
    {
     "data": {
      "text/plain": [
       "DecisionTreeClassifier(random_state=0)"
      ]
     },
     "execution_count": 110,
     "metadata": {},
     "output_type": "execute_result"
    }
   ],
   "source": [
    "# Setting up the DECISION TREE\n",
    "\n",
    "clf = DecisionTreeClassifier(random_state=0)\n",
    "clf.fit(X=X_train, y=y_train)"
   ]
  },
  {
   "cell_type": "code",
   "execution_count": 111,
   "id": "1b30aa43",
   "metadata": {},
   "outputs": [
    {
     "data": {
      "text/plain": [
       "'/home/bogdan/Desktop/COURSES_STATISTICAL_MACHINE_LEARNING_UCI/course_z4_DATA_ML_PYTHON_at_UCI_for_GITHUB_rewritten/image1.png'"
      ]
     },
     "execution_count": 111,
     "metadata": {},
     "output_type": "execute_result"
    }
   ],
   "source": [
    "# Visualizing the DECISION TREE\n",
    "\n",
    "graphiv_string = export_graphviz(clf, \n",
    "                                 out_file=None, \n",
    "                                 filled=True, \n",
    "                                 rounded=True,\n",
    "                                 feature_names = X_train.columns)\n",
    "\n",
    "# Convert the string to an image represenation, set the format to png.\n",
    "graph = graphviz.Source(graphiv_string, format='png')\n",
    "\n",
    "# Saving the image in the current working directory.\n",
    "image_savepath = os.path.join(os.getcwd(), 'image1')\n",
    "graph.render(image_savepath)"
   ]
  },
  {
   "cell_type": "code",
   "execution_count": null,
   "id": "09b09594",
   "metadata": {},
   "outputs": [],
   "source": []
  },
  {
   "cell_type": "code",
   "execution_count": 112,
   "id": "a2578e64",
   "metadata": {},
   "outputs": [],
   "source": [
    "# COMPARING the ACCURACY on the TRAINING and TESTING"
   ]
  },
  {
   "cell_type": "code",
   "execution_count": 113,
   "id": "15bda426",
   "metadata": {},
   "outputs": [
    {
     "name": "stdout",
     "output_type": "stream",
     "text": [
      "The accuracy on the training data is 100%\n"
     ]
    }
   ],
   "source": [
    "# Find the accuracy on the training data\n",
    "train_data_accuracy = accuracy_score(clf.predict(X_train), y_train)\n",
    "print('The accuracy on the training data is {:.0f}%'.format(train_data_accuracy*100))"
   ]
  },
  {
   "cell_type": "code",
   "execution_count": 114,
   "id": "d09135dc",
   "metadata": {},
   "outputs": [
    {
     "name": "stdout",
     "output_type": "stream",
     "text": [
      "The accuracy on the testing data is 59%\n"
     ]
    }
   ],
   "source": [
    "# Find the accuracy on the testing data\n",
    "test_data_accuracy = accuracy_score(clf.predict(X_test) , y_test)\n",
    "print('The accuracy on the testing data is {:.0f}%'.format(test_data_accuracy*100))"
   ]
  },
  {
   "cell_type": "code",
   "execution_count": null,
   "id": "39c59809",
   "metadata": {},
   "outputs": [],
   "source": []
  },
  {
   "cell_type": "code",
   "execution_count": 115,
   "id": "6476558e",
   "metadata": {},
   "outputs": [],
   "source": [
    "# In order to PREVENT OVERFITTING \n",
    "# to set up a min_samples_leaf = 45\n",
    "# and to compute the STEPS that we have written above"
   ]
  },
  {
   "cell_type": "code",
   "execution_count": 116,
   "id": "7087b8b4",
   "metadata": {},
   "outputs": [
    {
     "name": "stdout",
     "output_type": "stream",
     "text": [
      "The accuracy on the training data is 73%\n",
      "The accuracy on the testing data is 76%\n"
     ]
    }
   ],
   "source": [
    "clf = DecisionTreeClassifier(random_state=0, min_samples_leaf=45)\n",
    "clf.fit(X=X_train, y=y_train)\n",
    "\n",
    "# the DOT format and output as string.\n",
    "graphiv_string = export_graphviz(clf, \n",
    "                                 out_file=None, \n",
    "                                 filled=True, \n",
    "                                 rounded=True,\n",
    "                                 feature_names=X_train.columns)\n",
    "\n",
    "# to convert the string to an image represenation, to set the format to png.\n",
    "graph = graphviz.Source(graphiv_string, format='png')\n",
    "\n",
    "# to save the image as 'image2' in the current working directory.\n",
    "image_savepath = os.path.join(os.getcwd(), 'image2')\n",
    "graph.render(image_savepath)\n",
    "\n",
    "# to find the accuracy on the training data\n",
    "train_data_accuracy = accuracy_score(clf.predict(X_train), y_train)\n",
    "\n",
    "# to find the accuracy on the testing data\n",
    "test_data_accuracy = accuracy_score(clf.predict(X_test) , y_test)\n",
    "\n",
    "print('The accuracy on the training data is {:.0f}%'.format(train_data_accuracy*100))\n",
    "print('The accuracy on the testing data is {:.0f}%'.format(test_data_accuracy*100))"
   ]
  },
  {
   "cell_type": "code",
   "execution_count": null,
   "id": "f81cf2db",
   "metadata": {},
   "outputs": [],
   "source": []
  },
  {
   "cell_type": "code",
   "execution_count": 117,
   "id": "a8593bc1",
   "metadata": {},
   "outputs": [],
   "source": [
    "# Setting Hyper Parameters With GridSearchCV"
   ]
  },
  {
   "cell_type": "code",
   "execution_count": 118,
   "id": "d5dbcb60",
   "metadata": {},
   "outputs": [],
   "source": [
    "# GridSearchCV allows us to iteratively test different hyper-parameters over a cross-validation loop. \n",
    "# If we want to test 10 different values of hyper parameter, \n",
    "# it will test each of them over the cross-validation folds. \n",
    "# It will then save the the best value of the hyper-parameter and retrain the model with that setting."
   ]
  },
  {
   "cell_type": "code",
   "execution_count": 119,
   "id": "bd660041",
   "metadata": {},
   "outputs": [],
   "source": [
    "# It also allows to search over several different hyper-parameters. \n",
    "# For example, we could test 10 values of three different hyper-parameters. \n",
    "# It will test every combination (in this case, 1,000 combinations) of the hyper-parameters \n",
    "# and find the best values."
   ]
  },
  {
   "cell_type": "code",
   "execution_count": null,
   "id": "f2fbd4e8",
   "metadata": {},
   "outputs": [],
   "source": []
  },
  {
   "cell_type": "code",
   "execution_count": null,
   "id": "fe8897fd",
   "metadata": {},
   "outputs": [],
   "source": []
  },
  {
   "cell_type": "code",
   "execution_count": 120,
   "id": "ee58ddd0",
   "metadata": {},
   "outputs": [
    {
     "data": {
      "text/plain": [
       "GridSearchCV(cv=5, estimator=DecisionTreeClassifier(random_state=0),\n",
       "             param_grid={'max_depth': range(1, 10)}, return_train_score=True)"
      ]
     },
     "execution_count": 120,
     "metadata": {},
     "output_type": "execute_result"
    }
   ],
   "source": [
    "# In order to PREVENT OVERFITTING \n",
    "# to specify the arguments that we want to be fixed during the TESTING.\n",
    "\n",
    "clf = DecisionTreeClassifier(random_state=0)\n",
    "\n",
    "# to make a dictionary of DIFFERENT PARAMETERS and RANGES that we would like to test.\n",
    "\n",
    "# parameters = {'min_samples_leaf': range(5, 101), 'min_samples_split': [40,80,120]}\n",
    "# parameters = {'min_samples_leaf': range(5, 101)}\n",
    "parameters = {'max_depth': range(1, 10)}\n",
    "\n",
    "# to make the GridSearchCV object, with the model and the paramters, \n",
    "# also to specify the number of cv folds. \n",
    "\n",
    "# If we want the score on the trianing set to recorded, we set this to true.\n",
    "gsCV = GridSearchCV(clf, parameters, cv=5, return_train_score=True)\n",
    "\n",
    "# to train the model. The model will then perform the cross-validation loop\n",
    "# for every hyper-paramter combination that we want to test.\n",
    "gsCV.fit(X=X_train, y=y_train)"
   ]
  },
  {
   "cell_type": "code",
   "execution_count": 121,
   "id": "1c4fca17",
   "metadata": {},
   "outputs": [],
   "source": [
    "# In order to explore the HYPER-PARAMETERS"
   ]
  },
  {
   "cell_type": "code",
   "execution_count": 122,
   "id": "1fd6f6a3",
   "metadata": {},
   "outputs": [
    {
     "data": {
      "text/html": [
       "<div>\n",
       "<style scoped>\n",
       "    .dataframe tbody tr th:only-of-type {\n",
       "        vertical-align: middle;\n",
       "    }\n",
       "\n",
       "    .dataframe tbody tr th {\n",
       "        vertical-align: top;\n",
       "    }\n",
       "\n",
       "    .dataframe thead th {\n",
       "        text-align: right;\n",
       "    }\n",
       "</style>\n",
       "<table border=\"1\" class=\"dataframe\">\n",
       "  <thead>\n",
       "    <tr style=\"text-align: right;\">\n",
       "      <th></th>\n",
       "      <th>mean_fit_time</th>\n",
       "      <th>std_fit_time</th>\n",
       "      <th>mean_score_time</th>\n",
       "      <th>std_score_time</th>\n",
       "      <th>param_max_depth</th>\n",
       "      <th>params</th>\n",
       "      <th>split0_test_score</th>\n",
       "      <th>split1_test_score</th>\n",
       "      <th>split2_test_score</th>\n",
       "      <th>split3_test_score</th>\n",
       "      <th>...</th>\n",
       "      <th>mean_test_score</th>\n",
       "      <th>std_test_score</th>\n",
       "      <th>rank_test_score</th>\n",
       "      <th>split0_train_score</th>\n",
       "      <th>split1_train_score</th>\n",
       "      <th>split2_train_score</th>\n",
       "      <th>split3_train_score</th>\n",
       "      <th>split4_train_score</th>\n",
       "      <th>mean_train_score</th>\n",
       "      <th>std_train_score</th>\n",
       "    </tr>\n",
       "  </thead>\n",
       "  <tbody>\n",
       "    <tr>\n",
       "      <th>0</th>\n",
       "      <td>0.001835</td>\n",
       "      <td>0.000404</td>\n",
       "      <td>0.001004</td>\n",
       "      <td>0.000068</td>\n",
       "      <td>1</td>\n",
       "      <td>{'max_depth': 1}</td>\n",
       "      <td>0.672414</td>\n",
       "      <td>0.603448</td>\n",
       "      <td>0.724138</td>\n",
       "      <td>0.736842</td>\n",
       "      <td>...</td>\n",
       "      <td>0.694737</td>\n",
       "      <td>0.051463</td>\n",
       "      <td>4</td>\n",
       "      <td>0.747826</td>\n",
       "      <td>0.734783</td>\n",
       "      <td>0.734783</td>\n",
       "      <td>0.735931</td>\n",
       "      <td>0.731602</td>\n",
       "      <td>0.736985</td>\n",
       "      <td>0.005609</td>\n",
       "    </tr>\n",
       "    <tr>\n",
       "      <th>1</th>\n",
       "      <td>0.001591</td>\n",
       "      <td>0.000110</td>\n",
       "      <td>0.000959</td>\n",
       "      <td>0.000099</td>\n",
       "      <td>2</td>\n",
       "      <td>{'max_depth': 2}</td>\n",
       "      <td>0.724138</td>\n",
       "      <td>0.706897</td>\n",
       "      <td>0.741379</td>\n",
       "      <td>0.684211</td>\n",
       "      <td>...</td>\n",
       "      <td>0.694132</td>\n",
       "      <td>0.044293</td>\n",
       "      <td>6</td>\n",
       "      <td>0.773913</td>\n",
       "      <td>0.769565</td>\n",
       "      <td>0.769565</td>\n",
       "      <td>0.770563</td>\n",
       "      <td>0.753247</td>\n",
       "      <td>0.767371</td>\n",
       "      <td>0.007240</td>\n",
       "    </tr>\n",
       "    <tr>\n",
       "      <th>2</th>\n",
       "      <td>0.001533</td>\n",
       "      <td>0.000043</td>\n",
       "      <td>0.000895</td>\n",
       "      <td>0.000056</td>\n",
       "      <td>3</td>\n",
       "      <td>{'max_depth': 3}</td>\n",
       "      <td>0.793103</td>\n",
       "      <td>0.655172</td>\n",
       "      <td>0.741379</td>\n",
       "      <td>0.719298</td>\n",
       "      <td>...</td>\n",
       "      <td>0.725650</td>\n",
       "      <td>0.044374</td>\n",
       "      <td>1</td>\n",
       "      <td>0.808696</td>\n",
       "      <td>0.817391</td>\n",
       "      <td>0.826087</td>\n",
       "      <td>0.805195</td>\n",
       "      <td>0.766234</td>\n",
       "      <td>0.804720</td>\n",
       "      <td>0.020564</td>\n",
       "    </tr>\n",
       "    <tr>\n",
       "      <th>3</th>\n",
       "      <td>0.001664</td>\n",
       "      <td>0.000065</td>\n",
       "      <td>0.000889</td>\n",
       "      <td>0.000046</td>\n",
       "      <td>4</td>\n",
       "      <td>{'max_depth': 4}</td>\n",
       "      <td>0.706897</td>\n",
       "      <td>0.655172</td>\n",
       "      <td>0.775862</td>\n",
       "      <td>0.719298</td>\n",
       "      <td>...</td>\n",
       "      <td>0.715306</td>\n",
       "      <td>0.038434</td>\n",
       "      <td>2</td>\n",
       "      <td>0.847826</td>\n",
       "      <td>0.860870</td>\n",
       "      <td>0.852174</td>\n",
       "      <td>0.826840</td>\n",
       "      <td>0.826840</td>\n",
       "      <td>0.842910</td>\n",
       "      <td>0.013777</td>\n",
       "    </tr>\n",
       "    <tr>\n",
       "      <th>4</th>\n",
       "      <td>0.001771</td>\n",
       "      <td>0.000131</td>\n",
       "      <td>0.000853</td>\n",
       "      <td>0.000041</td>\n",
       "      <td>5</td>\n",
       "      <td>{'max_depth': 5}</td>\n",
       "      <td>0.775862</td>\n",
       "      <td>0.603448</td>\n",
       "      <td>0.637931</td>\n",
       "      <td>0.719298</td>\n",
       "      <td>...</td>\n",
       "      <td>0.694676</td>\n",
       "      <td>0.064059</td>\n",
       "      <td>5</td>\n",
       "      <td>0.891304</td>\n",
       "      <td>0.900000</td>\n",
       "      <td>0.878261</td>\n",
       "      <td>0.852814</td>\n",
       "      <td>0.852814</td>\n",
       "      <td>0.875039</td>\n",
       "      <td>0.019421</td>\n",
       "    </tr>\n",
       "  </tbody>\n",
       "</table>\n",
       "<p>5 rows × 21 columns</p>\n",
       "</div>"
      ],
      "text/plain": [
       "   mean_fit_time  std_fit_time  mean_score_time  std_score_time  \\\n",
       "0       0.001835      0.000404         0.001004        0.000068   \n",
       "1       0.001591      0.000110         0.000959        0.000099   \n",
       "2       0.001533      0.000043         0.000895        0.000056   \n",
       "3       0.001664      0.000065         0.000889        0.000046   \n",
       "4       0.001771      0.000131         0.000853        0.000041   \n",
       "\n",
       "  param_max_depth            params  split0_test_score  split1_test_score  \\\n",
       "0               1  {'max_depth': 1}           0.672414           0.603448   \n",
       "1               2  {'max_depth': 2}           0.724138           0.706897   \n",
       "2               3  {'max_depth': 3}           0.793103           0.655172   \n",
       "3               4  {'max_depth': 4}           0.706897           0.655172   \n",
       "4               5  {'max_depth': 5}           0.775862           0.603448   \n",
       "\n",
       "   split2_test_score  split3_test_score  ...  mean_test_score  std_test_score  \\\n",
       "0           0.724138           0.736842  ...         0.694737        0.051463   \n",
       "1           0.741379           0.684211  ...         0.694132        0.044293   \n",
       "2           0.741379           0.719298  ...         0.725650        0.044374   \n",
       "3           0.775862           0.719298  ...         0.715306        0.038434   \n",
       "4           0.637931           0.719298  ...         0.694676        0.064059   \n",
       "\n",
       "   rank_test_score  split0_train_score  split1_train_score  \\\n",
       "0                4            0.747826            0.734783   \n",
       "1                6            0.773913            0.769565   \n",
       "2                1            0.808696            0.817391   \n",
       "3                2            0.847826            0.860870   \n",
       "4                5            0.891304            0.900000   \n",
       "\n",
       "   split2_train_score  split3_train_score  split4_train_score  \\\n",
       "0            0.734783            0.735931            0.731602   \n",
       "1            0.769565            0.770563            0.753247   \n",
       "2            0.826087            0.805195            0.766234   \n",
       "3            0.852174            0.826840            0.826840   \n",
       "4            0.878261            0.852814            0.852814   \n",
       "\n",
       "   mean_train_score  std_train_score  \n",
       "0          0.736985         0.005609  \n",
       "1          0.767371         0.007240  \n",
       "2          0.804720         0.020564  \n",
       "3          0.842910         0.013777  \n",
       "4          0.875039         0.019421  \n",
       "\n",
       "[5 rows x 21 columns]"
      ]
     },
     "execution_count": 122,
     "metadata": {},
     "output_type": "execute_result"
    }
   ],
   "source": [
    "grid_search_results = pd.DataFrame(gsCV.cv_results_)\n",
    "grid_search_results.head()\n",
    "# grid_search_results.loc[grid_search_results['rank_test_score']<=10,:].sort_values('rank_test_score')"
   ]
  },
  {
   "cell_type": "code",
   "execution_count": null,
   "id": "b461b243",
   "metadata": {},
   "outputs": [],
   "source": []
  },
  {
   "cell_type": "code",
   "execution_count": 123,
   "id": "48518ed5",
   "metadata": {},
   "outputs": [],
   "source": [
    "# to INVESTIGATE the BEST MODEL that we have found "
   ]
  },
  {
   "cell_type": "code",
   "execution_count": 124,
   "id": "2c3c85e8",
   "metadata": {},
   "outputs": [
    {
     "name": "stdout",
     "output_type": "stream",
     "text": [
      "{'max_depth': 3}\n"
     ]
    }
   ],
   "source": [
    "gsCV.best_estimator_\n",
    "print(gsCV.best_params_)"
   ]
  },
  {
   "cell_type": "code",
   "execution_count": 125,
   "id": "198cb34a",
   "metadata": {},
   "outputs": [],
   "source": [
    "# in order to print the BEST TREE"
   ]
  },
  {
   "cell_type": "code",
   "execution_count": 126,
   "id": "cb11b1ad",
   "metadata": {},
   "outputs": [
    {
     "name": "stdout",
     "output_type": "stream",
     "text": [
      "The accuracy on the training data is 82%\n",
      "The accuracy on the testing data is 62%\n"
     ]
    }
   ],
   "source": [
    "bestTree = gsCV.best_estimator_\n",
    "\n",
    "graphiv_string = export_graphviz(bestTree, \n",
    "                                 out_file=None, \n",
    "                                 filled=True, \n",
    "                                 rounded=True,\n",
    "                                 feature_names=X_train.columns)\n",
    "graph = graphviz.Source(graphiv_string, format='png')\n",
    "\n",
    "image_savepath = os.path.join(os.getcwd(), 'image3')\n",
    "graph.render(image_savepath)\n",
    "\n",
    "# Find the accuracy on the training data\n",
    "train_data_accuracy = accuracy_score(bestTree.predict(X_train), y_train)\n",
    "\n",
    "# Find the accuracy on the testing data\n",
    "test_data_accuracy = accuracy_score(bestTree.predict(X_test) , y_test)\n",
    "\n",
    "print('The accuracy on the training data is {:.0f}%'.format(train_data_accuracy*100))\n",
    "print('The accuracy on the testing data is {:.0f}%'.format(test_data_accuracy*100))"
   ]
  },
  {
   "cell_type": "code",
   "execution_count": 127,
   "id": "accf4e71",
   "metadata": {},
   "outputs": [
    {
     "name": "stdout",
     "output_type": "stream",
     "text": [
      "[[ 4 21]\n",
      " [ 9 45]]\n"
     ]
    }
   ],
   "source": [
    "# to print the CONFUSION MATRIX of the BEST TREE\n",
    "cnf_matrix = confusion_matrix(y_test, bestTree.predict(X_test))\n",
    "print(cnf_matrix)"
   ]
  },
  {
   "cell_type": "code",
   "execution_count": 128,
   "id": "526f68b3",
   "metadata": {},
   "outputs": [
    {
     "name": "stdout",
     "output_type": "stream",
     "text": [
      "              precision    recall  f1-score   support\n",
      "\n",
      "           0       0.31      0.16      0.21        25\n",
      "           1       0.68      0.83      0.75        54\n",
      "\n",
      "    accuracy                           0.62        79\n",
      "   macro avg       0.49      0.50      0.48        79\n",
      "weighted avg       0.56      0.62      0.58        79\n",
      "\n"
     ]
    }
   ],
   "source": [
    "# to print the CLASSIFICATION REPORT\n",
    "print(classification_report(y_test, bestTree.predict(X_test)))"
   ]
  },
  {
   "cell_type": "code",
   "execution_count": 129,
   "id": "dfdf82cc",
   "metadata": {},
   "outputs": [],
   "source": [
    "# bestTree.predict(X_test)\n",
    "# bestTree.predict_proba(X_test)"
   ]
  },
  {
   "cell_type": "code",
   "execution_count": null,
   "id": "9d2bf655",
   "metadata": {},
   "outputs": [],
   "source": []
  },
  {
   "cell_type": "code",
   "execution_count": 130,
   "id": "280330c1",
   "metadata": {},
   "outputs": [],
   "source": [
    "# COMMENTS about the THRESHOLD VALUES\n",
    "# For both LOGISTIC_REGRESSION and DECISION_TREES, \n",
    "# we have used a threshold of 0.5 to determine the PREDICTED CLASS"
   ]
  },
  {
   "cell_type": "code",
   "execution_count": null,
   "id": "e4cc1a77",
   "metadata": {},
   "outputs": [],
   "source": []
  },
  {
   "cell_type": "code",
   "execution_count": 131,
   "id": "d1c6f020",
   "metadata": {},
   "outputs": [],
   "source": [
    "# in order to display the ROC curve \n",
    "predicted_probs = bestTree.predict_proba(X_test)\n",
    "# print(predicted_probs)"
   ]
  },
  {
   "cell_type": "code",
   "execution_count": null,
   "id": "d819b194",
   "metadata": {},
   "outputs": [],
   "source": []
  },
  {
   "cell_type": "code",
   "execution_count": 132,
   "id": "887e269a",
   "metadata": {},
   "outputs": [
    {
     "name": "stdout",
     "output_type": "stream",
     "text": [
      "[0.         0.01851852 0.81481481 0.83333333 0.90740741 0.92592593\n",
      " 1.        ]\n",
      "[0.   0.16 0.6  0.84 0.92 0.92 1.  ]\n",
      "[1.94117647 0.94117647 0.84974093 0.52941176 0.4        0.36363636\n",
      " 0.        ]\n"
     ]
    },
    {
     "data": {
      "text/plain": [
       "Text(0.5, 1.0, 'ROC Curve')"
      ]
     },
     "execution_count": 132,
     "metadata": {},
     "output_type": "execute_result"
    },
    {
     "data": {
      "image/png": "[encoded data removed]",
      "text/plain": [
       "<Figure size 432x288 with 1 Axes>"
      ]
     },
     "metadata": {
      "needs_background": "light"
     },
     "output_type": "display_data"
    }
   ],
   "source": [
    "fpr, recall, thresolds = roc_curve(y_test, predicted_probs[:, 1])\n",
    "print(recall)\n",
    "print(fpr)\n",
    "print(thresolds)\n",
    "\n",
    "fig, ax = plt.subplots(1, 1)\n",
    "ax.plot(fpr, recall, color='darkorange', lw=2, linestyle='-', marker='o')\n",
    "ax.plot([0, 1], [0, 1], color='navy', lw=2, linestyle='--')\n",
    "ax.set_xlim([0.0, 1.0])\n",
    "ax.set_ylim([0.0, 1.0])\n",
    "ax.set_xlabel('False Positive Rate')\n",
    "ax.set_ylabel('True Positive Rate (Recall)')\n",
    "ax.set_title('ROC Curve')"
   ]
  },
  {
   "cell_type": "code",
   "execution_count": null,
   "id": "b78244f0",
   "metadata": {},
   "outputs": [],
   "source": []
  },
  {
   "cell_type": "code",
   "execution_count": 133,
   "id": "6efd39c4",
   "metadata": {},
   "outputs": [],
   "source": [
    "# to SAVE and LOAD the MODELS"
   ]
  },
  {
   "cell_type": "code",
   "execution_count": 134,
   "id": "4747f5cd",
   "metadata": {},
   "outputs": [
    {
     "name": "stdout",
     "output_type": "stream",
     "text": [
      "[0.   0.08 0.08 0.16 0.4  0.84 1.  ]\n",
      "[0.         0.07407407 0.09259259 0.16666667 0.18518519 0.98148148\n",
      " 1.        ]\n",
      "[2.         1.         0.63636364 0.6        0.47058824 0.15025907\n",
      " 0.05882353]\n"
     ]
    },
    {
     "data": {
      "text/plain": [
       "Text(0.5, 1.0, 'ROC Curve')"
      ]
     },
     "execution_count": 134,
     "metadata": {},
     "output_type": "execute_result"
    },
    {
     "data": {
      "image/png": "[encoded data removed]",
      "text/plain": [
       "<Figure size 432x288 with 1 Axes>"
      ]
     },
     "metadata": {
      "needs_background": "light"
     },
     "output_type": "display_data"
    }
   ],
   "source": [
    "fpr, recall, thresolds = roc_curve(y_test, predicted_probs[:, 0], pos_label=0)\n",
    "print(recall)\n",
    "print(fpr)\n",
    "print(thresolds)\n",
    "\n",
    "fig, ax = plt.subplots(1, 1)\n",
    "ax.plot(fpr, recall, color='darkorange', lw=2, linestyle='-', marker='o')\n",
    "ax.plot([0, 1], [0, 1], color='navy', lw=2, linestyle='--')\n",
    "ax.set_xlim([0.0, 1.0])\n",
    "ax.set_ylim([0.0, 1.0])\n",
    "ax.set_xlabel('False Positive Rate')\n",
    "ax.set_ylabel('True Positive Rate (Recall)')\n",
    "ax.set_title('ROC Curve')"
   ]
  },
  {
   "cell_type": "code",
   "execution_count": null,
   "id": "681de0ad",
   "metadata": {},
   "outputs": [],
   "source": []
  },
  {
   "cell_type": "code",
   "execution_count": 135,
   "id": "c553897e",
   "metadata": {},
   "outputs": [
    {
     "data": {
      "text/plain": [
       "array([1, 1, 1, 1, 0, 1, 0, 1, 1, 1, 1, 1, 1, 1, 1, 1, 1, 1, 0, 1, 1, 1,\n",
       "       1, 1, 1, 1, 1, 1, 0, 1, 1, 1, 1, 1, 1, 1, 0, 1, 1, 1, 1, 1, 1, 0,\n",
       "       1, 1, 1, 0, 0, 1, 1, 1, 0, 1, 0, 1, 1, 1, 1, 1, 1, 1, 1, 0, 1, 1,\n",
       "       1, 1, 1, 0, 1, 1, 1, 1, 0, 1, 1, 1, 1])"
      ]
     },
     "execution_count": 135,
     "metadata": {},
     "output_type": "execute_result"
    }
   ],
   "source": [
    "savepath = os.path.join(os.getcwd(), \"the_tree_model.pkl\")\n",
    "# print(savepath)\n",
    "joblib.dump(bestTree, savepath)\n",
    "\n",
    "loaded_tree = joblib.load(savepath)\n",
    "loaded_tree.predict(X_test)"
   ]
  },
  {
   "cell_type": "code",
   "execution_count": null,
   "id": "a1d2a8de",
   "metadata": {},
   "outputs": [],
   "source": []
  },
  {
   "cell_type": "code",
   "execution_count": null,
   "id": "9fcb66c0",
   "metadata": {},
   "outputs": [],
   "source": []
  },
  {
   "cell_type": "code",
   "execution_count": 136,
   "id": "fb8522f1",
   "metadata": {},
   "outputs": [
    {
     "data": {
      "text/plain": [
       "'/home/bogdan/Desktop/COURSES_STATISTICAL_MACHINE_LEARNING_UCI/course_z4_DATA_ML_PYTHON_at_UCI_for_GITHUB_rewritten'"
      ]
     },
     "execution_count": 136,
     "metadata": {},
     "output_type": "execute_result"
    }
   ],
   "source": [
    "os.getcwd()"
   ]
  },
  {
   "cell_type": "code",
   "execution_count": null,
   "id": "b92a0532",
   "metadata": {},
   "outputs": [],
   "source": []
  }
 ],
 "metadata": {
  "kernelspec": {
   "display_name": "Python 3 (ipykernel)",
   "language": "python",
   "name": "python3"
  },
  "language_info": {
   "codemirror_mode": {
    "name": "ipython",
    "version": 3
   },
   "file_extension": ".py",
   "mimetype": "text/x-python",
   "name": "python",
   "nbconvert_exporter": "python",
   "pygments_lexer": "ipython3",
   "version": "3.9.5"
  }
 },
 "nbformat": 4,
 "nbformat_minor": 5
}
